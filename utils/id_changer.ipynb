{
 "cells": [
  {
   "cell_type": "code",
   "execution_count": 38,
   "metadata": {
    "collapsed": true
   },
   "outputs": [],
   "source": [
    "import os\n",
    "\n",
    "import tqdm"
   ]
  },
  {
   "cell_type": "code",
   "execution_count": 42,
   "outputs": [],
   "source": [
    "cwd = os.path.dirname(os.getcwd())\n",
    "datalist = os.listdir(os.path.join(cwd, r'data\\imgs'))\n",
    "masklist = os.listdir(os.path.join(cwd, r'data\\masks'))"
   ],
   "metadata": {
    "collapsed": false,
    "pycharm": {
     "name": "#%%\n"
    }
   }
  },
  {
   "cell_type": "code",
   "execution_count": 40,
   "outputs": [
    {
     "data": {
      "text/plain": "'100081_'"
     },
     "execution_count": 40,
     "metadata": {},
     "output_type": "execute_result"
    }
   ],
   "source": [
    "datalist[1][:-7]"
   ],
   "metadata": {
    "collapsed": false,
    "pycharm": {
     "name": "#%%\n"
    }
   }
  },
  {
   "cell_type": "code",
   "execution_count": 41,
   "outputs": [
    {
     "name": "stderr",
     "output_type": "stream",
     "text": [
      "100%|██████████| 6225/6225 [00:01<00:00, 3173.59it/s]\n",
      "100%|██████████| 6225/6225 [00:01<00:00, 3675.82it/s]\n"
     ]
    }
   ],
   "source": [
    "datapath = os.path.join(cwd, r'data\\imgs')\n",
    "labelpath = os.path.join(cwd, r'data\\masks')\n",
    "\n",
    "for ele in tqdm.tqdm(datalist[1:]):\n",
    "    os.rename(os.path.join(datapath, ele), os.path.join(datapath, ele[:-8] + '.jpg'))\n",
    "for ele in tqdm.tqdm(masklist[1:]):\n",
    "    os.rename(os.path.join(labelpath, ele), os.path.join(labelpath, ele[:-9] + '.png'))"
   ],
   "metadata": {
    "collapsed": false,
    "pycharm": {
     "name": "#%%\n"
    }
   }
  },
  {
   "cell_type": "code",
   "execution_count": 37,
   "outputs": [
    {
     "name": "stderr",
     "output_type": "stream",
     "text": [
      "100%|██████████| 6225/6225 [00:01<00:00, 3769.30it/s]\n"
     ]
    }
   ],
   "source": [
    "\n",
    "\n"
   ],
   "metadata": {
    "collapsed": false,
    "pycharm": {
     "name": "#%%\n"
    }
   }
  }
 ],
 "metadata": {
  "kernelspec": {
   "display_name": "Python 3",
   "language": "python",
   "name": "python3"
  },
  "language_info": {
   "codemirror_mode": {
    "name": "ipython",
    "version": 2
   },
   "file_extension": ".py",
   "mimetype": "text/x-python",
   "name": "python",
   "nbconvert_exporter": "python",
   "pygments_lexer": "ipython2",
   "version": "2.7.6"
  }
 },
 "nbformat": 4,
 "nbformat_minor": 0
}